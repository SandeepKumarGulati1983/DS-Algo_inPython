{
  "nbformat": 4,
  "nbformat_minor": 0,
  "metadata": {
    "colab": {
      "name": "Untitled8.ipynb",
      "provenance": []
    },
    "kernelspec": {
      "name": "python3",
      "display_name": "Python 3"
    }
  },
  "cells": [
    {
      "cell_type": "code",
      "metadata": {
        "id": "fg3KvymSl-pl",
        "outputId": "1bac34c5-42ab-4040-b7c8-160ef0908ce5",
        "colab": {
          "base_uri": "https://localhost:8080/",
          "height": 34
        }
      },
      "source": [
        "a = [12, 13 , 1, 5, 4, 7, 8 ]\n",
        "\n",
        "# bubble sort \n",
        "def bubblesort(a):\n",
        "  for i in range (len(a)-1):\n",
        "    for j in range (0, len(a)-1-i):\n",
        "     if a[j] > a[j+1] :\n",
        "        swap(a,j+1,j)\n",
        "  \n",
        "  return a\n",
        "\n",
        "\n",
        "\n",
        "def swap(a, i, j):\n",
        "  temp = a[i]\n",
        "  a[i] = a[j]\n",
        "  a[j] = temp\n",
        "\n",
        "print(\"sorted array \", bubblesort(a)) "
      ],
      "execution_count": 22,
      "outputs": [
        {
          "output_type": "stream",
          "text": [
            "sorted array  [1, 4, 5, 7, 8, 12, 13]\n"
          ],
          "name": "stdout"
        }
      ]
    },
    {
      "cell_type": "code",
      "metadata": {
        "id": "ExpZJP4ZJIwl",
        "outputId": "ab2f3878-3cb5-4bf5-df04-2f20a8021aa0",
        "colab": {
          "base_uri": "https://localhost:8080/",
          "height": 34
        }
      },
      "source": [
        "# insertion Sort \n",
        "a1 = [12, 13 , 1, 5, 4, 7, 8 ]\n",
        "def insertionSort(a):\n",
        "  for i in range (1, len(a)):\n",
        "    key = a[i]\n",
        "    index = i \n",
        "    for j in range (i, 0 , -1) :\n",
        "      if a[j-1] >key :\n",
        "        a[j] = a[j-1]\n",
        "        index = j-1\n",
        "    a[index] = key\n",
        "  return a \n",
        "\n",
        "print(\"insertionsort\", insertionSort(a1))"
      ],
      "execution_count": 24,
      "outputs": [
        {
          "output_type": "stream",
          "text": [
            "insertionsort [1, 4, 5, 7, 8, 12, 13]\n"
          ],
          "name": "stdout"
        }
      ]
    },
    {
      "cell_type": "code",
      "metadata": {
        "id": "sqdgWQQ_JM_b",
        "outputId": "49bdc7c2-e1ad-4d72-c643-8cdda6e0c535",
        "colab": {
          "base_uri": "https://localhost:8080/",
          "height": 51
        }
      },
      "source": [
        "# selection sort \n",
        "a2 = [12, 13 , 1, 5, 4, 7, 8 ]\n",
        "\n",
        "def selectionSort(a):\n",
        "  print(\"org array : \", a2)\n",
        "  for i in range (len(a)-1,0,-1 ):\n",
        "    index = i\n",
        "    for j in range (i,0, -1):\n",
        "      if a [index] < a[j-1]:\n",
        "        index = j-1\n",
        "    if i != index : swap(a, i , index)\n",
        "  return a \n",
        "\n",
        "print (\"selectionSort\", selectionSort(a2))\n"
      ],
      "execution_count": 33,
      "outputs": [
        {
          "output_type": "stream",
          "text": [
            "org array :  [12, 13, 1, 5, 4, 7, 8]\n",
            "selectionSort [1, 4, 5, 7, 8, 12, 13]\n"
          ],
          "name": "stdout"
        }
      ]
    }
  ]
}
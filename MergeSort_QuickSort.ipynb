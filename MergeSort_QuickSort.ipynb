{
  "nbformat": 4,
  "nbformat_minor": 0,
  "metadata": {
    "colab": {
      "name": "Untitled9.ipynb",
      "provenance": [],
      "collapsed_sections": []
    },
    "kernelspec": {
      "name": "python3",
      "display_name": "Python 3"
    }
  },
  "cells": [
    {
      "cell_type": "code",
      "metadata": {
        "id": "22mXFAC_PCzU"
      },
      "source": [
        "# Simple Recursion \n",
        "\n",
        "def num(n):\n",
        "  if n<=1 : return n\n",
        "  print (n)\n",
        "  return  num(n-1)\n",
        "\n",
        "print(\"main\", num(5))"
      ],
      "execution_count": null,
      "outputs": []
    },
    {
      "cell_type": "code",
      "metadata": {
        "id": "EUxa5qRvPuW1",
        "outputId": "2d26b35e-7694-4615-c175-a1174c3b1d0d",
        "colab": {
          "base_uri": "https://localhost:8080/",
          "height": 34
        }
      },
      "source": [
        "# factorial \n",
        "# 5!  = 5*4*3*2*1 = 120\n",
        "\n",
        "def fac(n):\n",
        "\n",
        "  if n == 1 or n == 0  : return 1\n",
        "  return n*fac(n-1)\n",
        "\n",
        "print(\"fac\", fac(5)) "
      ],
      "execution_count": 12,
      "outputs": [
        {
          "output_type": "stream",
          "text": [
            "fac 120\n"
          ],
          "name": "stdout"
        }
      ]
    },
    {
      "cell_type": "code",
      "metadata": {
        "id": "cgZRWWHkuE4Q"
      },
      "source": [
        "# Quick sort \n",
        "\n",
        "a = [18, 15 , 1, 2, 5, 9 , 6 , 4, 3]\n",
        "\n",
        "\n",
        "def QuickSort(a, low , high):\n",
        "\n",
        "  if low >=high : \n",
        "    return \n",
        "\n",
        "  pivot = a[high]\n",
        "  key = partition(a, low , high, pivot)\n",
        "  QuickSort(a, low , key-1)\n",
        "  QuickSort (a , key+1, high)\n",
        "  return a \n",
        "\n",
        "\n",
        "def partition(a, i , j , pivot):\n",
        "  pivotindex  = j\n",
        "  j= j-1\n",
        "  while True :\n",
        "\n",
        "    while a[i] < pivot : \n",
        "      i +=1 \n",
        "      print(\"lower Index\", i) \n",
        "    while a[j] > pivot and j>=0 : \n",
        "      j -=1 \n",
        "      print(\"higher Index\", j) \n",
        "\n",
        "    if i >= j : \n",
        "      print(\"*****\")\n",
        "      break\n",
        "    swap(a, i , j)\n",
        "  swap(a, i, pivotindex)\n",
        "  print(\"swaped array\", a )\n",
        "  print(\"partition index : \", i)\n",
        "  return i \n",
        "\n",
        "def swap(a, i, j ):\n",
        "  temp = a[i]\n",
        "  a[i] = a[j]\n",
        "  a[j] = temp\n",
        "print (\"quick sorted array :\", QuickSort(a, 0 , len(a)-1 ) )"
      ],
      "execution_count": null,
      "outputs": []
    },
    {
      "cell_type": "code",
      "metadata": {
        "id": "BqlVSowSNDUG"
      },
      "source": [
        "# Merge Sort "
      ],
      "execution_count": null,
      "outputs": []
    },
    {
      "cell_type": "code",
      "metadata": {
        "id": "3OtFM3eCNLoI",
        "outputId": "30830667-6dc9-48db-c735-920fe99cbe8e",
        "colab": {
          "base_uri": "https://localhost:8080/",
          "height": 1000
        }
      },
      "source": [
        "a = [18, 15 , 1, 2, 5, 9 , 6 , 4, 3]\n",
        "b = [None]*len(a)\n",
        "\n",
        "def mergeSort(a,b, low, high):\n",
        "  if low ==high : \n",
        "    return \n",
        "  mid = (low+high )//2\n",
        "  mergeSort(a,b,low, mid)\n",
        "  mergeSort(a,b, mid+1, high)\n",
        "  merge(a,b , low , mid+1, high)\n",
        "\n",
        "def merge(a,b, lowP, highP, upperB): \n",
        "  print(lowP, highP, upperB)\n",
        "  j = 0\n",
        "  lp = lowP \n",
        "  mid= highP -1\n",
        "\n",
        "  print (\"first picked array [] = \", a[lowP:mid+1])\n",
        "  print (\"second picked array [] = \", a[highP:upperB+1])\n",
        "\n",
        "  while  lp<=mid and highP<=upperB :\n",
        "    if a[lp] < a[highP] : \n",
        "      b[j] = a[lp]\n",
        "      lp+=1\n",
        "      j +=1\n",
        "    else:\n",
        "      b[j] = a[highP]\n",
        "      highP+=1\n",
        "      j +=1\n",
        "  print(\"after first while loop\", b)\n",
        "\n",
        "  while lp<=mid :\n",
        "    b[j] = a[lp]\n",
        "    lp+=1\n",
        "    j +=1\n",
        "  print(\"after second while loop\", )\n",
        "\n",
        "  while highP<=upperB :\n",
        "    b[j] = a[highP]\n",
        "    highP+=1\n",
        "    j +=1\n",
        "  print(\"after third while loop\", b)\n",
        "\n",
        "  nElement =upperB - lowP +1\n",
        "  print(\"array size fr merging \",nElement )\n",
        "  for x in range (nElement):\n",
        "    a[lowP+x] = b[x]\n",
        "  print(\"array a after merge\", a)\n",
        "  \n",
        "\n",
        "mergeSort(a, b , 0, len(a)-1)\n",
        "print (\"sorted workplace\", a)\n"
      ],
      "execution_count": 18,
      "outputs": [
        {
          "output_type": "stream",
          "text": [
            "0 1 1\n",
            "first picked array [] =  [18]\n",
            "second picked array [] =  [15]\n",
            "after first while loop [15, None, None, None, None, None, None, None, None]\n",
            "after second while loop\n",
            "after third while loop [15, 18, None, None, None, None, None, None, None]\n",
            "array size fr merging  2\n",
            "array a after merge [15, 18, 1, 2, 5, 9, 6, 4, 3]\n",
            "0 2 2\n",
            "first picked array [] =  [15, 18]\n",
            "second picked array [] =  [1]\n",
            "after first while loop [1, 18, None, None, None, None, None, None, None]\n",
            "after second while loop\n",
            "after third while loop [1, 15, 18, None, None, None, None, None, None]\n",
            "array size fr merging  3\n",
            "array a after merge [1, 15, 18, 2, 5, 9, 6, 4, 3]\n",
            "3 4 4\n",
            "first picked array [] =  [2]\n",
            "second picked array [] =  [5]\n",
            "after first while loop [2, 15, 18, None, None, None, None, None, None]\n",
            "after second while loop\n",
            "after third while loop [2, 5, 18, None, None, None, None, None, None]\n",
            "array size fr merging  2\n",
            "array a after merge [1, 15, 18, 2, 5, 9, 6, 4, 3]\n",
            "0 3 4\n",
            "first picked array [] =  [1, 15, 18]\n",
            "second picked array [] =  [2, 5]\n",
            "after first while loop [1, 2, 5, None, None, None, None, None, None]\n",
            "after second while loop\n",
            "after third while loop [1, 2, 5, 15, 18, None, None, None, None]\n",
            "array size fr merging  5\n",
            "array a after merge [1, 2, 5, 15, 18, 9, 6, 4, 3]\n",
            "5 6 6\n",
            "first picked array [] =  [9]\n",
            "second picked array [] =  [6]\n",
            "after first while loop [6, 2, 5, 15, 18, None, None, None, None]\n",
            "after second while loop\n",
            "after third while loop [6, 9, 5, 15, 18, None, None, None, None]\n",
            "array size fr merging  2\n",
            "array a after merge [1, 2, 5, 15, 18, 6, 9, 4, 3]\n",
            "7 8 8\n",
            "first picked array [] =  [4]\n",
            "second picked array [] =  [3]\n",
            "after first while loop [3, 9, 5, 15, 18, None, None, None, None]\n",
            "after second while loop\n",
            "after third while loop [3, 4, 5, 15, 18, None, None, None, None]\n",
            "array size fr merging  2\n",
            "array a after merge [1, 2, 5, 15, 18, 6, 9, 3, 4]\n",
            "5 7 8\n",
            "first picked array [] =  [6, 9]\n",
            "second picked array [] =  [3, 4]\n",
            "after first while loop [3, 4, 5, 15, 18, None, None, None, None]\n",
            "after second while loop\n",
            "after third while loop [3, 4, 6, 9, 18, None, None, None, None]\n",
            "array size fr merging  4\n",
            "array a after merge [1, 2, 5, 15, 18, 3, 4, 6, 9]\n",
            "0 5 8\n",
            "first picked array [] =  [1, 2, 5, 15, 18]\n",
            "second picked array [] =  [3, 4, 6, 9]\n",
            "after first while loop [1, 2, 3, 4, 5, 6, 9, None, None]\n",
            "after second while loop\n",
            "after third while loop [1, 2, 3, 4, 5, 6, 9, 15, 18]\n",
            "array size fr merging  9\n",
            "array a after merge [1, 2, 3, 4, 5, 6, 9, 15, 18]\n",
            "sorted workplace [1, 2, 3, 4, 5, 6, 9, 15, 18]\n"
          ],
          "name": "stdout"
        }
      ]
    }
  ]
}
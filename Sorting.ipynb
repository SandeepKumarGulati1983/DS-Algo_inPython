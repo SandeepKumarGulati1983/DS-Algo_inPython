{
  "nbformat": 4,
  "nbformat_minor": 0,
  "metadata": {
    "colab": {
      "name": "Copy of Untitled4.ipynb",
      "provenance": [],
      "collapsed_sections": []
    },
    "kernelspec": {
      "name": "python3",
      "display_name": "Python 3"
    }
  },
  "cells": [
    {
      "cell_type": "markdown",
      "metadata": {
        "id": "IaSVSTFgfKx9"
      },
      "source": [
        "training for prassana\n",
        "1. array  -- searching , sorting \n",
        "  1. searching \n",
        "      b. binary search \n",
        "  2. sorting \n",
        "    1. bubble sort. -- O (N2)\n",
        "    2. insertion sort \n",
        "    3. selection sort -\n",
        "    4. quick sort / merge sort. - O (NLogN)\n",
        "    5. Redix sort / -- O(N)\n"
      ]
    },
    {
      "cell_type": "code",
      "metadata": {
        "id": "nf7-8LFHfXOK"
      },
      "source": [
        ""
      ],
      "execution_count": null,
      "outputs": []
    },
    {
      "cell_type": "code",
      "metadata": {
        "id": "tY4zU-qofeZ8",
        "outputId": "b89b5e93-94ea-4d11-f2a6-832170a5e1f7",
        "colab": {
          "base_uri": "https://localhost:8080/",
          "height": 34
        }
      },
      "source": [
        " array = [3, 4, 'prasana', 6 ]\n",
        " print (array)"
      ],
      "execution_count": null,
      "outputs": [
        {
          "output_type": "stream",
          "text": [
            "[3, 4, 'prasana', 6]\n"
          ],
          "name": "stdout"
        }
      ]
    },
    {
      "cell_type": "code",
      "metadata": {
        "id": "5BDSNDJggwv0",
        "outputId": "242f9625-7abe-45fe-8d61-ea21ada932e0",
        "colab": {
          "base_uri": "https://localhost:8080/",
          "height": 34
        }
      },
      "source": [
        "print (array[0])"
      ],
      "execution_count": null,
      "outputs": [
        {
          "output_type": "stream",
          "text": [
            "3\n"
          ],
          "name": "stdout"
        }
      ]
    },
    {
      "cell_type": "code",
      "metadata": {
        "id": "Qig1QaBSg4Ae",
        "outputId": "f96d3897-89cd-440c-c0ab-8dde7ecb6045",
        "colab": {
          "base_uri": "https://localhost:8080/",
          "height": 85
        }
      },
      "source": [
        "print (array[0:2])\n",
        "print (array[:3])\n",
        "print (array[:-1])\n",
        "print(array[-1])"
      ],
      "execution_count": null,
      "outputs": [
        {
          "output_type": "stream",
          "text": [
            "[3, 4]\n",
            "[3, 4, 'prasana']\n",
            "[3, 4, 'prasana']\n",
            "6\n"
          ],
          "name": "stdout"
        }
      ]
    },
    {
      "cell_type": "markdown",
      "metadata": {
        "id": "Mw4AV0g4hvwD"
      },
      "source": [
        "Bubble sort "
      ]
    },
    {
      "cell_type": "code",
      "metadata": {
        "id": "rXQjZtwthsN5",
        "outputId": "78d1eda7-7fc1-4cfc-ddd0-847ff20f53dc",
        "colab": {
          "base_uri": "https://localhost:8080/",
          "height": 34
        }
      },
      "source": [
        "array= [9, 3, 4,8, 1]\n",
        "\n",
        "def bubbleSort(a):\n",
        "  for i in range (len(a)):\n",
        "    for j in range (len(a)-1-i):\n",
        "      if a[j]>a[j+1] :\n",
        "        swap(a, j , j+1)\n",
        "  return a\n",
        "\n",
        "def swap(a , i , j):\n",
        "  temp= a[i]\n",
        "  a[i] = a[j]\n",
        "  a[j] = temp\n",
        "\n",
        "\n",
        "print(bubbleSort(array))"
      ],
      "execution_count": null,
      "outputs": [
        {
          "output_type": "stream",
          "text": [
            "[1, 3, 4, 8, 9]\n"
          ],
          "name": "stdout"
        }
      ]
    },
    {
      "cell_type": "markdown",
      "metadata": {
        "id": "XiB0ad9fq2GE"
      },
      "source": [
        "Selection Sort"
      ]
    },
    {
      "cell_type": "code",
      "metadata": {
        "id": "HKNF_S61q1vO",
        "outputId": "d7fce00e-466a-4290-f7f9-27fc5800b66a",
        "colab": {
          "base_uri": "https://localhost:8080/",
          "height": 34
        }
      },
      "source": [
        "array = [11, 9, 8 , 10 , 2, 1 ,12 ]\n",
        "\n",
        "def SelectionSort(a):\n",
        "  for i in range (len(a)-1):\n",
        "    index = i\n",
        "    for j in range(i+1, len(a)):\n",
        "      if a[index] < a[j]:\n",
        "        index = j\n",
        "    if i != index :\n",
        "      swap(a, i , index)\n",
        "  return a\n",
        "\n",
        "\n",
        "print(SelectionSort(array))"
      ],
      "execution_count": null,
      "outputs": [
        {
          "output_type": "stream",
          "text": [
            "[12, 11, 10, 9, 8, 2, 1]\n"
          ],
          "name": "stdout"
        }
      ]
    },
    {
      "cell_type": "markdown",
      "metadata": {
        "id": "n4BN17S16o27"
      },
      "source": [
        "Insertion sort "
      ]
    },
    {
      "cell_type": "code",
      "metadata": {
        "id": "TNdW-NV6xVtZ",
        "outputId": "4f0bb50e-729b-4a9f-e1cd-23b567ca20a5",
        "colab": {
          "base_uri": "https://localhost:8080/",
          "height": 34
        }
      },
      "source": [
        "array1 = [11, 9, 8 , 10 , 2, 1 ,12 ]\n",
        "def InsertionSort(a):\n",
        "\n",
        "  for i in range (1, len(a)):\n",
        "    temp = a[i] \n",
        "    j=i\n",
        "    while j>0 and a[j-1] >= temp:\n",
        "      a[j]= a[j-1]\n",
        "      j-= 1\n",
        "    a[j] = temp\n",
        "  return a \n",
        "    \n",
        "print(InsertionSort(array1))\n",
        "\n",
        "\n"
      ],
      "execution_count": null,
      "outputs": [
        {
          "output_type": "stream",
          "text": [
            "[1, 2, 8, 9, 10, 11, 12]\n"
          ],
          "name": "stdout"
        }
      ]
    },
    {
      "cell_type": "code",
      "metadata": {
        "id": "VpHqo4RGZInt",
        "outputId": "c76167d2-d22f-4290-ff28-a7f7662d6c88",
        "colab": {
          "base_uri": "https://localhost:8080/",
          "height": 34
        }
      },
      "source": [
        "a = [11, 9, 8 , 10 , 2, 1 ,12 ]\n",
        "def insertionSort(arr):\n",
        "  for i in range(1, len(arr)):\n",
        "    key = arr[i]\n",
        "    j = i-1\n",
        "    while j >=0 and key < arr[j] :\n",
        "      arr[j+1] = arr[j]\n",
        "      j -= 1\n",
        "    arr[j+1] = key\n",
        "  return arr\n",
        "\n",
        "print(insertionSort(a))\n"
      ],
      "execution_count": null,
      "outputs": [
        {
          "output_type": "stream",
          "text": [
            "[1, 2, 8, 9, 10, 11, 12]\n"
          ],
          "name": "stdout"
        }
      ]
    },
    {
      "cell_type": "markdown",
      "metadata": {
        "id": "d_Okout4WT7d"
      },
      "source": [
        "Insertion with For loop "
      ]
    },
    {
      "cell_type": "code",
      "metadata": {
        "id": "10K7iRWcQAvt",
        "outputId": "f1b0b4e3-a92b-45eb-fd32-5f543d81f072",
        "colab": {
          "base_uri": "https://localhost:8080/",
          "height": 34
        }
      },
      "source": [
        " a = [11, 9, 8 , 10 , 2, 1 ,12 ]\n",
        "\n",
        "\n",
        "for i in range (1, len(a)-1):\n",
        "  key = a[i]\n",
        "  for j in range (i , 0 , -1 ) :\n",
        "    if key < a[j-1] :\n",
        "      a[j] = a[j-1]\n",
        "      index = j-1\n",
        "  a[index] = key\n",
        "print(a) has \n"
      ],
      "execution_count": null,
      "outputs": [
        {
          "output_type": "stream",
          "text": [
            "[1, 2, 8, 9, 10, 11, 12]\n"
          ],
          "name": "stdout"
        }
      ]
    }
  ]
}